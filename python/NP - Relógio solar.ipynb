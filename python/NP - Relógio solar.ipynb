{
 "cells": [
  {
   "attachments": {},
   "cell_type": "markdown",
   "metadata": {},
   "source": [
    "Criar um relógio que mostra uma determinada mensagem de acordo com a posição do sol/lua em relação a um ponto na terra no qual o relógio está.\n",
    "\n",
    "PASSOS:\n",
    "1 - Definir uma variável para o grau indicado\n",
    "2 - Colocar as condições seguintes : \n",
    "    x= 360 / 0 : bom dia\n",
    "    x = 90 : boa tarde\n",
    "    x = 180 : boa noite\n",
    "    x = 270 : de madrugada\n",
    "3 - mandar uma mensagem para o usuário\n",
    "\n"
   ]
  },
  {
   "attachments": {},
   "cell_type": "markdown",
   "metadata": {},
   "source": [
    "Se forem vários inputs, mas um de cada vez:"
   ]
  },
  {
   "cell_type": "code",
   "execution_count": 5,
   "metadata": {},
   "outputs": [],
   "source": [
    "switch = True\n",
    "while switch == True:\n",
    "    grau = input()\n",
    "    if grau != \"\":\n",
    "        grau = int(grau)\n",
    "        if grau == 360 or  0 <= grau < 90:\n",
    "            print(\"Bom Dia!!\")\n",
    "        if 90 <= grau < 180:\n",
    "            print(\"Boa Tarde!!\")\n",
    "        if 180 <= grau < 270:\n",
    "            print(\"Boa Noite!!\")\n",
    "        if 270 <= grau < 360:\n",
    "            print(\"De Madrugada!!\")\n",
    "    else: switch = False"
   ]
  },
  {
   "attachments": {},
   "cell_type": "markdown",
   "metadata": {},
   "source": [
    "Se forem vários inputs e todos de uma vez, separados por linha:\n",
    "Exemplo:\n",
    "34\n",
    "67\n",
    "89\n",
    "..."
   ]
  },
  {
   "cell_type": "code",
   "execution_count": null,
   "metadata": {},
   "outputs": [],
   "source": [
    "graus = (input())\n",
    "grau = graus.split(\"\\n\")\n",
    "for element in grau:\n",
    "    element = int(element)\n",
    "    if element == 360 or  0 <= element < 90:\n",
    "        print(\"Bom Dia!!\")\n",
    "    if 90 <= element < 180:\n",
    "        print(\"Boa Tarde!!\")\n",
    "    if 180 <= element < 270:\n",
    "        print(\"Boa Noite!!\")\n",
    "    if 270 <= element < 360:\n",
    "        print(\"De Madrugada!!\")"
   ]
  }
 ],
 "metadata": {
  "kernelspec": {
   "display_name": "Python 3",
   "language": "python",
   "name": "python3"
  },
  "language_info": {
   "codemirror_mode": {
    "name": "ipython",
    "version": 3
   },
   "file_extension": ".py",
   "mimetype": "text/x-python",
   "name": "python",
   "nbconvert_exporter": "python",
   "pygments_lexer": "ipython3",
   "version": "3.11.4"
  },
  "orig_nbformat": 4
 },
 "nbformat": 4,
 "nbformat_minor": 2
}
