{
 "cells": [
  {
   "cell_type": "code",
   "execution_count": null,
   "metadata": {},
   "outputs": [],
   "source": [
    "'''\n",
    "Funções são mini-algorítmos usados no seu código que fazem coisas específicas. É possível também criar\n",
    "uma função, onde você dá o nome dessa função seguido de uma pontuação a qual contém as variáveis que\n",
    "serão utilizadas como argumento na execução do código escrito no escolpo da sua função. A princípio, \n",
    "a função deve ser escrita de maneira genérica para se adequar sempre aos diferentes argumentos que podem\n",
    "ser utilizados. Ao fim, essa função sempre retorna um valor, que deve então ser atribuido a uma variável.\n",
    "'''\n",
    "def transformar_str_em_int (string : str) -> list[int]:\n",
    "    divisão = string.split(\",\")\n",
    "    inteiro = map(int, divisão)\n",
    "    return  list(inteiro)\n",
    "numeros = input(\"Digite os números separados por vírgula!: \")\n",
    "lista = transformar_str_em_int (numeros)\n",
    "print(\"Os números são:\",lista)\n",
    "print(\"A soma é :\",sum(lista))\n",
    " "
   ]
  },
  {
   "attachments": {},
   "cell_type": "markdown",
   "metadata": {},
   "source": [
    "No python, temos 17 funções nativas que são:\n",
    "    - print()     \n",
    "    - input()\n",
    "    - int()\n",
    "    - str()\n",
    "    - float()\n",
    "    - type()\n",
    "    - len()\n",
    "    - range()\n",
    "    - round()\n",
    "    - abs()\n",
    "    - list()\n",
    "    - sorted()\n",
    "    - sum()\n",
    "    - max()\n",
    "    - min()\n"
   ]
  },
  {
   "cell_type": "code",
   "execution_count": null,
   "metadata": {},
   "outputs": [],
   "source": [
    "'PRINT()'\n",
    "'''\n",
    "A função print é utilizada para exibir mensagems ou valores na saída padrão. Ela aceita mais de um\n",
    "argumento, desde que esteja separado por vírgulas.\n",
    "Além disso, essa função possui alguns 'comandos' que podem mudar como ela funciona. Um deles é o end=, que indica o que vai acontecer quando for printado o argumento. Normalmente, já vem \"end=\\n\", fazendo com que se forem\n",
    "printados em sequência elementos de um objeto iterável, eles estejam separados por uma linha.\n",
    "'''\n",
    "nome = \"Nenega\"\n",
    "print(nome,\"muito\",\"fofa\")\n"
   ]
  },
  {
   "cell_type": "code",
   "execution_count": null,
   "metadata": {},
   "outputs": [],
   "source": [
    "'INPUT()'\n",
    "'''\n",
    "A função input() lê uma linha de entrada do usuário e a retorna como uma string. É possível fornecer \n",
    "uma mensagem para o usuário através do parâmetro \"mensagem\" para orientá-lo sobre o que deve ser inserido\n",
    "'''\n",
    "nenega = input(\"O que a nenega é?: \")\n",
    "if nenega.lower() == \"xereta\":\n",
    "    print(\"Ela realmente é {}!\".format(nenega))\n",
    "elif nenega.lower() == \"popozuda\" or nenega.lower() == \"calamitosa\" or nenega.lower() == \"popozuda\":\n",
    "    print(\"Ela realmente é {}!\".format(nenega))\n",
    "else:\n",
    "    print(\"Essa não é a reposta certa\")"
   ]
  },
  {
   "cell_type": "code",
   "execution_count": null,
   "metadata": {},
   "outputs": [],
   "source": [
    "'INT() ; STR() ; FLOAT()'\n",
    "'''\n",
    "Essas funções alteram o tipo do objeto, transformando em valor inteiro, numa string e num valor flutuante, \n",
    "que é um valor decimal.\n",
    "'''\n",
    "nenega = input(\"Qual é o nível de fofura da nenega?: \")\n",
    "print(nenega)\n",
    "print(\"Como todo input() resulta em uma string, o nível de fofura da nenega agora é um objeto\",type(nenega))\n",
    "print(\"Mas agora vou transformar esse nível de fofura em inteiro\")\n",
    "print(\"nenega = int(nenega)\")\n",
    "nenega = int(nenega)\n",
    "print(\"E então o nível de fofura da nenega se transformou em um objeto do tipo\",type(nenega))\n",
    "print(\"E por fim vou transformar em um número inteiro com 4 casas decimais\")\n",
    "print(\"nenega = float()\")\n",
    "nenega = float(nenega)\n",
    "print(\"Agora o valor de nenega é {:.4f},\".format(nenega),\"que é um objeto do tipo\",type(nenega))"
   ]
  },
  {
   "cell_type": "code",
   "execution_count": null,
   "metadata": {},
   "outputs": [],
   "source": [
    "'TYPE()'\n",
    "'''\n",
    "A função type vai retornar o tipo do objeto em questão\n",
    "'''\n",
    "angus = input(\"Cite um apelido do Angus: \")\n",
    "print(angus)\n",
    "print(angus,\"é um objeto do tipo\",type(angus))\n",
    "ndogs = 3\n",
    "print(\"O número de dogs que tenho é\",ndogs,\"e esse número é um objeto do tipo\",type(ndogs))"
   ]
  },
  {
   "cell_type": "code",
   "execution_count": null,
   "metadata": {},
   "outputs": [],
   "source": [
    "'LEN()'\n",
    "'''\n",
    "A função len() retorna o comprimento (número de itens) de um objeto iterável. Ela recebe o iterável como\n",
    "parâmetro e retorna um valor inteiro representando o comprimeto.\n",
    "'''\n",
    "popocão = \"O que tem de fofo, tem de chato.\"\n",
    "print(popocão)\n",
    "print(\"o comprimento da frase que define o popocão é\",len(popocão))"
   ]
  },
  {
   "cell_type": "code",
   "execution_count": null,
   "metadata": {},
   "outputs": [],
   "source": [
    "'RANGE(start,stop,step)'\n",
    "'''\n",
    "Essa função gera uma sequência de números (um vetor de números) dentro de um valor especificado.\n",
    "Ela trata os argumentos de maneira específica de acordo com sua posição na pontuação.\n",
    "O primeiro espaço se trata do ponto de inicio da sequência, se nada for colocado, o default é 0\n",
    "O segundo espaço se trata do ponto de parada, que não é incluso como elemento do vetor retornado\n",
    "O terceiro espaço se trata do valor do incremento entre dois elementos do vetor resultado.\n",
    "'''\n",
    "vetor = range(0,11)\n",
    "for i in vetor:\n",
    "    print(i,\"é o elemento de index\",i)\n"
   ]
  },
  {
   "cell_type": "code",
   "execution_count": null,
   "metadata": {},
   "outputs": [],
   "source": [
    "'ROUND()'\n",
    "'''\n",
    "Essa função arredonda um número decimal para uma quantidade específica de casas decimais. Ela recebe\n",
    "o número a ser arrendondado e a quantidade de casas decimais como argumentos => round(número,casas)\n",
    "'''\n",
    "numero = float(input(\"Digite o número a ser arrendondado: \"))\n",
    "arredondado = round(numero,2)\n",
    "print(\"O valor arredondado é\",arredondado)"
   ]
  },
  {
   "cell_type": "code",
   "execution_count": null,
   "metadata": {},
   "outputs": [],
   "source": [
    "'ABS()'\n",
    "'''\n",
    "Essa função traz o valor absoluto de um número, ou seja, o módulo desse número (|número|)\n",
    "'''\n",
    "\n",
    "def checktype (var: str) -> bool:\n",
    "    for i in var:\n",
    "        if i == \".\":\n",
    "            return False\n",
    "    return True\n",
    "\n",
    "numero = input(\"Digite o número: \")\n",
    "if checktype(numero):\n",
    "    numero = int(numero)\n",
    "else:\n",
    "    numero = float(numero)\n",
    "\n",
    "modnumero = abs(numero)\n",
    "print(modnumero)"
   ]
  },
  {
   "cell_type": "code",
   "execution_count": null,
   "metadata": {},
   "outputs": [],
   "source": [
    "'LIST()'\n",
    "'''\n",
    "Essa é uma função que cria uma lista do objeto iterável indicado, sendo parecido com um vetor, mas pode\n",
    "conter elementos de diferentes tipos numa única lista. Se em uma variável é do tipo string apenas, será\n",
    "listada em caractéres, mas se ela conter string + outro tipo, a string será um único elemento.\n",
    "'''\n",
    "nenega = \"fofa demais! nota:\"\n",
    "listnenega = (list(nenega))\n",
    "nenega = listnenega, 10\n",
    "print(list(nenega))\n"
   ]
  },
  {
   "cell_type": "code",
   "execution_count": null,
   "metadata": {},
   "outputs": [],
   "source": [
    "'SORTED()'\n",
    "'''\n",
    "Essa função realiza a ordenação em ordem crescente dos elementos do iterável usado como argumento e cria\n",
    "então uma nova lista com os elementos ordenados\n",
    "'''\n",
    "lista = input(\"Digite 10 números separados por ,: \")\n",
    "print(\"Os números digitados foram:\",lista)\n",
    "lista = lista.split(\",\")\n",
    "lista = map(int,lista)\n",
    "listaord = sorted(lista)\n",
    "print(\"Os números em ordem crescente é:\",listaord)"
   ]
  },
  {
   "cell_type": "code",
   "execution_count": null,
   "metadata": {},
   "outputs": [],
   "source": [
    "'SUM()'\n",
    "'''\n",
    "Essa função faz a somatória de todos os elementos de uma lista que contem números como argumento, e então\n",
    "retorna esse resultado\n",
    "'''\n",
    "lista = input(\"Digite 10 números separados por ,: \")\n",
    "print(\"Os números digitados foram:\",lista)\n",
    "lista = lista.split(\",\")\n",
    "lista = map(int,lista)\n",
    "soma = sum(lista)\n",
    "print(\"O valor da soma deles é:\",soma)"
   ]
  },
  {
   "cell_type": "code",
   "execution_count": null,
   "metadata": {},
   "outputs": [],
   "source": [
    "'MAX()'\n",
    "'''\n",
    "Essa função traz o maior valor em um iterável. Ela faz isso ao receber o iterável como argumento e então\n",
    "retorna o maior valor nele. Se utilizada em uma string, vai retornar a letra mais ao fim do alfabeto que\n",
    "está nessa string.\n",
    "'''\n",
    "valor = (input(\"Digite uma sequência de números separadas por espaço: \"))\n",
    "vetor = valor.split()\n",
    "vetor = map(int,vetor)\n",
    "nenega = list(vetor)\n",
    "for element in nenega:\n",
    "    print(type(element))\n",
    "print(\"O valor máximo é :{}\".format(max(nenega)))"
   ]
  },
  {
   "cell_type": "code",
   "execution_count": 9,
   "metadata": {},
   "outputs": [
    {
     "name": "stdout",
     "output_type": "stream",
     "text": [
      "1\n"
     ]
    }
   ],
   "source": [
    "'MIN()'\n",
    "'''\n",
    "Essa função traz o menor valor em um iterável. Ela faz isso ao receber o iterável como argumento e então\n",
    "retorna o maior valor nele. Se utilizada em uma string, vai retornar a letra mais ao fim do alfabeto que\n",
    "está nessa string.\n",
    "'''\n",
    "valor = (input(\"Digite uma sequência de números separadas por espaço: \"))\n",
    "vetor = valor.split()\n",
    "vetor = map(int,vetor)\n",
    "nenega = list(vetor)\n",
    "print(min(nenega))"
   ]
  },
  {
   "cell_type": "code",
   "execution_count": null,
   "metadata": {},
   "outputs": [],
   "source": [
    "'SPLIT()'\n",
    "'''\n",
    "Essa função divide uma string em uma lista subsequente de strings (a quantidade de strings é delegada)\n",
    "de acordo com um separador específico, que também é delegado.\n",
    "split(separador,quantidade)\n",
    "'''\n",
    "lista =\"A nenega é fofa demais!\"\n",
    "divisão = lista.split(\" \",)\n",
    "print(divisão)"
   ]
  },
  {
   "cell_type": "code",
   "execution_count": 12,
   "metadata": {},
   "outputs": [
    {
     "name": "stdout",
     "output_type": "stream",
     "text": [
      "<class 'map'>\n",
      "100\n"
     ]
    }
   ],
   "source": [
    "'MAP()'\n",
    "'''\n",
    "Essa função aplica uma outra função a todos os elementos de um iterável, transformando o então em um\n",
    "objeto do tipo map, que é um objeto iterável do tipo lazy,  o que significa que os elementos não \n",
    "são calculados e armazenados antecipadamente, sendo gerados de acordo com a demanda. Isso é útil quando\n",
    "se tem uma grande quantidade de dados, pois evita alocar memória para todos de uma vez.aaq\n",
    "'''\n",
    "lista = \"10\",\"20\",\"30\",\"40\"\n",
    "lista = map(int,lista)\n",
    "print(type(lista))\n",
    "soma = sum(lista)\n",
    "print(soma)"
   ]
  }
 ],
 "metadata": {
  "kernelspec": {
   "display_name": "Python 3",
   "language": "python",
   "name": "python3"
  },
  "language_info": {
   "codemirror_mode": {
    "name": "ipython",
    "version": 3
   },
   "file_extension": ".py",
   "mimetype": "text/x-python",
   "name": "python",
   "nbconvert_exporter": "python",
   "pygments_lexer": "ipython3",
   "version": "3.11.4"
  },
  "orig_nbformat": 4
 },
 "nbformat": 4,
 "nbformat_minor": 2
}
