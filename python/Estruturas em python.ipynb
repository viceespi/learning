{
 "cells": [
  {
   "attachments": {},
   "cell_type": "markdown",
   "metadata": {},
   "source": [
    "ESTRUTURAS\n",
    "\n",
    "- ESTRUTURAS DE CONDIÇÃO\n",
    "\n",
    "- ESTRUTURAS DE REPETIÇÃO"
   ]
  },
  {
   "cell_type": "code",
   "execution_count": null,
   "metadata": {},
   "outputs": [],
   "source": [
    "\"ESTRUTURAS DE CONDIÇÃO EM PYTHON\"\n",
    "'''\n",
    "As estruturas de condição executam o código escrito dentro do escolpo das keywords específicas (if, elif,\n",
    "else) dessa estrutura de condição. Geralmente, a funcionalidade é de que: o algorítmo dentro do escolpo\n",
    "do IF é executado se a condição de IF é verdadeira, caso contrário, o algorítmo dentro do escolpo do ELSE\n",
    "é executado. Em questão ao ELIF, nada mais é que uma keyword para executar o algorítmo dentro de seu \n",
    "escolpo se uma condição específica, que não é TRUE para o IF, acontecer.\n",
    "'''\n",
    "\n",
    "idade = int(input())\n",
    "if idade < 20:\n",
    "    print(\"você é jovem!!\")\n",
    "elif idade == 26:\n",
    "    print(\"Idade do thedeuzim hein?\")\n",
    "else:\n",
    "    print(\"idosahhhh!!\")"
   ]
  },
  {
   "cell_type": "code",
   "execution_count": null,
   "metadata": {},
   "outputs": [],
   "source": [
    "\"ESTRUTURAS DE REPETIÇÃO EM PYTHON\"\n",
    "'''\n",
    "As estruturas de repetição são duas; a com a keyword WHILE e a com a keyword FOR.\n",
    "\n",
    "\"WHILE\"\n",
    "A estrutura do WHILE serve para repetir o algorítmo dentro do seu escolpo enquanto a condição dada for\n",
    "verdadeira\n",
    "\n",
    "\"FOR\"\n",
    "A estrutura do FOR serve para iterar (percorrer sequencialmente os elementos) de um objeto iterável,\n",
    "como vetores (e strings), coleções e outros, e executa o algorítmo em seu escolpo para cada elemento.\n",
    "'''"
   ]
  },
  {
   "cell_type": "code",
   "execution_count": null,
   "metadata": {},
   "outputs": [],
   "source": [
    "popocão = input(\"O que o Popocão é?: \")\n",
    "while popocão.lower() != \"chato\":\n",
    "    confirmaçãopopocão = input(\"Você tem certeza que o popocão é \" + popocão + \"?: \")\n",
    "    while confirmaçãopopocão.lower() != \"não\":\n",
    "        confirmaçãopopocão = input(\"Você tem certeza que o popocão é \" + popocão + \"?: \")\n",
    "    popocão = input(\"O que ele realmente é então?: \")\n",
    "print(\"ele realmente é!!\")"
   ]
  },
  {
   "cell_type": "code",
   "execution_count": 2,
   "metadata": {},
   "outputs": [
    {
     "name": "stdout",
     "output_type": "stream",
     "text": [
      "\n",
      "é\n",
      "é \n",
      "é m\n",
      "é mu\n",
      "é mui\n",
      "é muit\n",
      "é muito\n",
      "é muito \n",
      "é muito f\n",
      "é muito fo\n",
      "é muito fof\n",
      "é muito fofo\n"
     ]
    }
   ],
   "source": [
    "popocão = input()\n",
    "for i in range(0,len(popocão) + 1):\n",
    "    elementos = popocão[:i]\n",
    "    print(elementos)"
   ]
  }
 ],
 "metadata": {
  "kernelspec": {
   "display_name": "Python 3",
   "language": "python",
   "name": "python3"
  },
  "language_info": {
   "codemirror_mode": {
    "name": "ipython",
    "version": 3
   },
   "file_extension": ".py",
   "mimetype": "text/x-python",
   "name": "python",
   "nbconvert_exporter": "python",
   "pygments_lexer": "ipython3",
   "version": "3.11.4"
  },
  "orig_nbformat": 4
 },
 "nbformat": 4,
 "nbformat_minor": 2
}
