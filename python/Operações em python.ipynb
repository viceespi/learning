{
 "cells": [
  {
   "attachments": {},
   "cell_type": "markdown",
   "metadata": {},
   "source": [
    "OPERAÇÕES \n",
    "No python existem diversas operações que permitem a manipulação de dados e também a execução de cálculos. A seguir estão as principais operações na linguagem python:\n",
    "\n",
    "1 - OPERAÇÕES ARITMÉTICAS\n",
    "    . ADIÇÃO (+)\n",
    "    . SUBTRAÇÃO (-)\n",
    "    . MULTIPLICAÇÃO (*)\n",
    "    . DIVISÃO (/)\n",
    "    . DIVISÃO INTEIRA (//)\n",
    "    . RESTO DA DIVISÃO (%)\n",
    "    . POTÊNCIA (**)\n",
    "\n",
    "2 - OPERAÇÕES DE COMPARAÇÃO\n",
    "    . IGUAL (==)\n",
    "    . DIFERENTE (!=)\n",
    "    . MAIOR (>) E MAIOR OU IGUAL (>=)\n",
    "    . MENOR (<) E MENOR OU IGUAL (<=)\n",
    "\n",
    "3 - OPERAÇÕES LÓGICAS\n",
    "    . E (and)\n",
    "    . OU (or)\n",
    "    . NÃO (not)\n",
    "\n",
    "4 - OPERAÇÕES DE ATRIBUIÇÃO\n",
    "    . ATRIBUIÇÃO SIMPLES (=)\n",
    "    . ATRIBUIÇÃO COMBINADA (+=);(-=);(/=);(*=)\n",
    "\n",
    "5 - OPERAÇÕES EM STRINGS\n",
    "    . CONCATENAÇÃO (+)\n",
    "    . REPETIÇÃO (*)"
   ]
  },
  {
   "attachments": {},
   "cell_type": "markdown",
   "metadata": {},
   "source": [
    "OPERAÇÕES ARITMÉTICAS"
   ]
  },
  {
   "cell_type": "code",
   "execution_count": null,
   "metadata": {},
   "outputs": [],
   "source": [
    "'ADIÇÃO (+)'\n",
    "'Soma dois valores'\n",
    "print(\"adição\")\n",
    "A = input(\"Digite o valor de A: \")\n",
    "B = input(\"Digite o valor de B: \")\n",
    "print(A + \" + \" + B)\n",
    "soma = int(A) + int(B)\n",
    "print(\"O resultado é: {}\".format(soma))"
   ]
  },
  {
   "cell_type": "code",
   "execution_count": null,
   "metadata": {},
   "outputs": [],
   "source": [
    "'SUBTRAÇÃO (-)'\n",
    "'Subtrai um valor do outro'\n",
    "print(\"subtração\")\n",
    "A = input(\"Digite o valor de A: \")\n",
    "B = input(\"Digite o valor de B: \")\n",
    "print(A + \" - \" + B)\n",
    "menos = int(A) - int(B)\n",
    "print(\"O resultado é: {}\".format(menos))"
   ]
  },
  {
   "cell_type": "code",
   "execution_count": null,
   "metadata": {},
   "outputs": [],
   "source": [
    "'MULTIPLICAÇÃO (*)'\n",
    "'Multiplica dois valores'\n",
    "print(\"multiplicação\")\n",
    "A = input(\"Digite o valor de A: \")\n",
    "B = input(\"Digite o valor de B: \")\n",
    "print(A + \" x \" + B)\n",
    "vezes = int(A) * int(B)\n",
    "print(\"O resultado é: {}\".format(vezes))"
   ]
  },
  {
   "cell_type": "code",
   "execution_count": null,
   "metadata": {},
   "outputs": [],
   "source": [
    "'DIVISÃO¨(/)'\n",
    "'Divide um valor pelo outro e retorna um valor de ponto flutuante'\n",
    "print(\"divisão\")\n",
    "A = input(\"Digite o valor de A: \")\n",
    "B = input(\"Digite o valor de B: \")\n",
    "print(A + \" / \" + B)\n",
    "divisão = int(A) / int(B)\n",
    "print(\"O resultado é: {}\".format(divisão))"
   ]
  },
  {
   "cell_type": "code",
   "execution_count": null,
   "metadata": {},
   "outputs": [],
   "source": [
    "'DIVISÃO INTEIRA (//) E RESTO DA DIVISÃO (%)'\n",
    "'Divide um valor pelo outro e retorna apenas a parte inteira do resultado'\n",
    "'Divide um valor pelo outro e retorna o resto daquela divisão. Divide da mesma maneira que //'\n",
    "print(\"divisão inteira e resto\")\n",
    "A = input(\"Digite o valor de A: \")\n",
    "B = input(\"Digite o valor de B: \")\n",
    "print(A + \" // \" + B)\n",
    "divisãoint = int(A) // int(B)\n",
    "resto = int(A) % int(B)\n",
    "print(\"O resultado é: {}\".format(divisãoint))\n",
    "print(\"O resto é: {}\".format(resto))"
   ]
  },
  {
   "cell_type": "code",
   "execution_count": null,
   "metadata": {},
   "outputs": [],
   "source": [
    "'POTÊNCIA (**)'\n",
    "'Calcula a potência de um valor pelo outro, sendo A a base e B o expoente'\n",
    "print(\"potência\")\n",
    "A = input(\"Digite o valor de A: \")\n",
    "B = input(\"Digite o valor de B: \")\n",
    "print(A + \" ** \" + B)\n",
    "pot = int(A) ** int(B)\n",
    "print(\"O resultado é: {}\".format(pot))"
   ]
  },
  {
   "attachments": {},
   "cell_type": "markdown",
   "metadata": {},
   "source": [
    "OPERAÇÕES DE COMPARAÇÃO"
   ]
  },
  {
   "cell_type": "code",
   "execution_count": null,
   "metadata": {},
   "outputs": [],
   "source": [
    "'IGUAL (==)'\n",
    "'Verifica se dois valores são iguais, se sim = TRUE'\n",
    "A = input(\"Digite um número, palavra ou frase: \")\n",
    "B = input(\"Digite um número, palavra ou frase para ser comparado: \")\n",
    "if A == B:\n",
    "    print(\"Os dois são iguais!!\")\n",
    "else:\n",
    "    print(\"Eles não são iguais...\")\n"
   ]
  },
  {
   "cell_type": "code",
   "execution_count": null,
   "metadata": {},
   "outputs": [],
   "source": [
    "'DIFERENTE (!=)'\n",
    "'Verifica se dois valores são diferentes, se sim = TRUE'\n",
    "A = input(\"Digite um número, palavra ou frase: \")\n",
    "B = input(\"Digite um número, palavra ou frase para ser comparado: \")\n",
    "if A != B:\n",
    "    print(\"Os dois são diferentes!!\")\n",
    "else:\n",
    "    print(\"Eles são iguais...\")\n"
   ]
  },
  {
   "cell_type": "code",
   "execution_count": null,
   "metadata": {},
   "outputs": [],
   "source": [
    "'MENOR'\n",
    "'Verifica se um valor é menor que o outro'\n",
    "A = input(\"Digite um número: \")\n",
    "B = input(\"Digite um número para ser comparado: \")\n",
    "if A < B:\n",
    "    print(A + \" é menor que \" + B)\n",
    "else:\n",
    "    print(A+\" não é menor que \"+B)"
   ]
  },
  {
   "cell_type": "code",
   "execution_count": null,
   "metadata": {},
   "outputs": [],
   "source": [
    "'MAIOR'\n",
    "'Verifica se um valor é maior que o outro'\n",
    "A = input(\"Digite um número: \")\n",
    "B = input(\"Digite um número para ser comparado: \")\n",
    "if A > B:\n",
    "    print(A + \" é maior que \" + B)\n",
    "else:\n",
    "    print(A+\" não é maior que \"+B)"
   ]
  },
  {
   "cell_type": "code",
   "execution_count": null,
   "metadata": {},
   "outputs": [],
   "source": [
    "'MAIOR OU IGUAL'\n",
    "'Verifica se um valor é maior ou igual ao outro'\n",
    "A = input(\"Digite um número: \")\n",
    "B = input(\"Digite um número para ser comparado: \")\n",
    "if A >= B:\n",
    "    print(A+\" é menor que \"+B)\n",
    "elif A == B:\n",
    "    print(A+ \" é igual a \"+B)\n",
    "else:\n",
    "    print(A+\" não é menor que \"+B)"
   ]
  },
  {
   "cell_type": "code",
   "execution_count": null,
   "metadata": {},
   "outputs": [],
   "source": [
    "'MENOR OU IGUAL'\n",
    "'Verifica se um valor é menor ou igual ao outro'\n",
    "A = input(\"Digite um número: \")\n",
    "B = input(\"Digite um número para ser comparado: \")\n",
    "if A <= B:\n",
    "    print(A + \" é menor que \" + B)\n",
    "elif A == B:\n",
    "    print(A+ \" é igual a \"+B)\n",
    "else:\n",
    "    print(A+\" não é menor que \"+B)"
   ]
  },
  {
   "attachments": {},
   "cell_type": "markdown",
   "metadata": {},
   "source": [
    "OPERAÇÕES LÓGICAS"
   ]
  },
  {
   "cell_type": "code",
   "execution_count": null,
   "metadata": {},
   "outputs": [],
   "source": [
    "'E (and)'\n",
    "'Retorna TRUE se todas as condições apresentadas forem verdadeiras'\n",
    "print(\"Digite duas palavras que a soma de seus caracteres seja = 11\")\n",
    "A = input(\"Digite a primeira palavra: \")\n",
    "B = input(\"Digite a segunda palavra: \")\n",
    "soma = len(A) + len(B)\n",
    "print(\"{} + {}\".format(len(A),len(B)))\n",
    "if soma == 11:\n",
    "    print(\"O pedido foi atendido, a soma dos caracteres das palavras = {}\".format(soma))\n",
    "else:\n",
    "    print(\"O pedido não foi atendido, a soma dos caracteres não é 11, é {}\".format(soma))"
   ]
  },
  {
   "cell_type": "code",
   "execution_count": null,
   "metadata": {},
   "outputs": [],
   "source": [
    "'OU (or)'\n",
    "'Retorna TRUE se ao menos uma das condições apresentadas forem verdadeiras'\n",
    "print(\"Digite dois números cuja soma seja igual 24 ou igual a 48\")\n",
    "A = input(\"Digite o primeiro número: \")\n",
    "B = input(\"Digite o segundo número: \")\n",
    "soma = int(A) + int(B)\n",
    "print(A+\" + \"+B)\n",
    "if soma == 24 or soma == 48:\n",
    "    print(\"O pedido foi atendido, a soma dos números = {}\".format(soma))\n",
    "else:\n",
    "    print(\"O pedido não foi atendido, a soma dos caractes não é nem 24 nem 48, é {}\".format(soma))"
   ]
  },
  {
   "cell_type": "code",
   "execution_count": null,
   "metadata": {},
   "outputs": [],
   "source": [
    "'NÃO (not)'\n",
    "'''É uma operação que inverte o valor de uma expressão booleana ou de uma expressão específica da lin-\n",
    "guagem que tem valor booleano (no python por exemplo: \"\"; 0 [int e float]; containers vazios [(); {}; []])\n",
    "'''\n",
    "resultado1 = 0\n",
    "resultado2 = not 0\n",
    "resultado3 = \"\"\n",
    "resultado4 = not \"\"\n",
    "resultado5 = False\n",
    "resultado6 = not False\n",
    "print(resultado1,resultado2)\n",
    "print(resultado3,resultado4)\n",
    "print(resultado5,resultado6)"
   ]
  },
  {
   "attachments": {},
   "cell_type": "markdown",
   "metadata": {},
   "source": [
    "OPERAÇÕES DE ATRIBUIÇÃO"
   ]
  },
  {
   "cell_type": "code",
   "execution_count": null,
   "metadata": {},
   "outputs": [],
   "source": [
    "'ATRIBUIÇÃO SIMPLES (=)'\n",
    "'Atribui um valor a uma variável'\n",
    "nenega = \"fofa\"\n",
    "print(nenega)"
   ]
  },
  {
   "cell_type": "code",
   "execution_count": null,
   "metadata": {},
   "outputs": [],
   "source": [
    "'ATRIBUIÇÃO COMBINADA'\n",
    "nenega = \"fofa\"\n",
    "atributo = \" demais\"\n",
    "nenega += atributo\n",
    "print(nenega)"
   ]
  },
  {
   "attachments": {},
   "cell_type": "markdown",
   "metadata": {},
   "source": [
    "OPERAÇÕES EM STRINGS"
   ]
  },
  {
   "cell_type": "code",
   "execution_count": null,
   "metadata": {},
   "outputs": [],
   "source": [
    "'CONCATENAÇÃO (+)'\n",
    "'Junta duas strings em uma única string'\n",
    "nome = \"nenega é \"\n",
    "atributo = \"fofa demais!!\"\n",
    "print(nome+\"possui {} caracteres\".format(len(nome)))\n",
    "print(atributo+\" possui {} caracteres\".format(len(atributo)))\n",
    "sum = len(nome) + len(atributo)\n",
    "print(str(sum) + \" é a quantidade de caracteres em {}\".format(nome + atributo))"
   ]
  },
  {
   "cell_type": "code",
   "execution_count": null,
   "metadata": {},
   "outputs": [],
   "source": [
    "'REPETIÇÃO (*)'\n",
    "'É uma operação que repete uma string várias vezes'\n",
    "nome = \"Nenega \"\n",
    "rep = 10\n",
    "atributo = \"linda! \"\n",
    "verdade = atributo * rep\n",
    "print(nome + verdade)"
   ]
  }
 ],
 "metadata": {
  "kernelspec": {
   "display_name": "Python 3",
   "language": "python",
   "name": "python3"
  },
  "language_info": {
   "codemirror_mode": {
    "name": "ipython",
    "version": 3
   },
   "file_extension": ".py",
   "mimetype": "text/x-python",
   "name": "python",
   "nbconvert_exporter": "python",
   "pygments_lexer": "ipython3",
   "version": "3.11.4"
  },
  "orig_nbformat": 4
 },
 "nbformat": 4,
 "nbformat_minor": 2
}
