{
 "cells": [
  {
   "attachments": {},
   "cell_type": "markdown",
   "metadata": {},
   "source": [
    "# Banknotes and Coins\n",
    "By Neilor Tonin, URI  Brazil\n",
    "\n",
    "**Timelimit: 1**\n",
    "\n",
    "Read a value of floating point with two decimal places. This represents a monetary value. After this, calculate the smallest possible number of notes and coins on which the value can be decomposed. The considered notes are of 100, 50, 20, 10, 5, 2. The possible coins are of 1, 0.50, 0.25, 0.10, 0.05 and 0.01. Print the message “NOTAS:” followed by the list of notes and the message “MOEDAS:” followed by the list of coins."
   ]
  },
  {
   "cell_type": "code",
   "execution_count": 2,
   "metadata": {},
   "outputs": [
    {
     "name": "stdout",
     "output_type": "stream",
     "text": [
      "NOTAS:\n",
      "7 nota(s) de R$ 100.00\n",
      "1 nota(s) de R$ 50.00\n",
      "0 nota(s) de R$ 20.00\n",
      "1 nota(s) de R$ 10.00\n",
      "1 nota(s) de R$ 5.00\n",
      "1 nota(s) de R$ 2.00\n",
      "MOEDAS:\n",
      "0 moeda(s) de R$ 1.00\n",
      "1 moeda(s) de R$ 0.50\n",
      "1 moeda(s) de R$ 0.25\n",
      "0 moeda(s) de R$ 0.10\n",
      "0 moeda(s) de R$ 0.05\n",
      "2 moeda(s) de R$ 0.01\n"
     ]
    }
   ],
   "source": [
    "\n",
    "'''\n",
    "1 - criar a variável do input do dinheiro\n",
    "2 - separar os elementos desse vetor em duas variáveis, dinheronota e dinheiromoeda\n",
    "3 - elaborar um algorítmo que utilize a base\n",
    "'''\n",
    "dinheiro = input()\n",
    "dinheironota = \"\"\n",
    "dinheiromoeda = \"\"\n",
    "achouponto = False\n",
    "for element in dinheiro:\n",
    "    if element == \".\": achouponto = True\n",
    "    else:\n",
    "        if achouponto == True:\n",
    "            dinheiromoeda = dinheiromoeda + element\n",
    "        else: dinheironota = dinheironota + element\n",
    "notas = [100, 50, 20, 10, 5, 2, 1]\n",
    "moedas = [50, 25, 10, 5, 1]\n",
    "dinheironota = int(dinheironota)\n",
    "dinheiromoeda = int(dinheiromoeda)\n",
    "\n",
    "\n",
    "def quantidade (total: int, currency: int):\n",
    "    qntd = total // currency\n",
    "    return qntd\n",
    "def calcularnovovalor (total: int, qntd: int, currency: int):\n",
    "    newmoney = total - (qntd * currency)\n",
    "    return newmoney\n",
    "print(\"NOTAS:\")\n",
    "for element in notas:\n",
    "    qntdnotas = quantidade (dinheironota, element)\n",
    "    dinheironota = calcularnovovalor(dinheironota, qntdnotas, element)\n",
    "    if element == 1:\n",
    "        print (\"MOEDAS:\")\n",
    "        print(qntdnotas,\"moeda(s) de R$ {:.2f}\".format(element))\n",
    "    else: \n",
    "        print(qntdnotas,\"nota(s) de R$ {}.00\".format(element))\n",
    "for element in moedas:\n",
    "    qntdmoedas = quantidade (dinheiromoeda, element)\n",
    "    dinheiromoeda = calcularnovovalor (dinheiromoeda, qntdmoedas, element)\n",
    "    moedareal = element / 100\n",
    "    print(qntdmoedas,\"moeda(s) de R$ {:.2f}\".format(moedareal))\n",
    "\n",
    "\n",
    "\n",
    "\n"
   ]
  }
 ],
 "metadata": {
  "kernelspec": {
   "display_name": "Python 3",
   "language": "python",
   "name": "python3"
  },
  "language_info": {
   "codemirror_mode": {
    "name": "ipython",
    "version": 3
   },
   "file_extension": ".py",
   "mimetype": "text/x-python",
   "name": "python",
   "nbconvert_exporter": "python",
   "pygments_lexer": "ipython3",
   "version": "3.11.4"
  },
  "orig_nbformat": 4
 },
 "nbformat": 4,
 "nbformat_minor": 2
}
